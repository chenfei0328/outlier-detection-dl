{
 "cells": [
  {
   "cell_type": "code",
   "execution_count": 1,
   "metadata": {},
   "outputs": [],
   "source": [
    "import torch\n",
    "import torch.nn.functional as F\n",
    "from torch import nn"
   ]
  },
  {
   "cell_type": "code",
   "execution_count": 2,
   "metadata": {},
   "outputs": [],
   "source": [
    "class AE(nn.Module):\n",
    "    def __init__(self, in_dims=128, out_dims=128, latent_dims=3):\n",
    "        super(AE, self).__init__()\n",
    "        \n",
    "        self.in_dims = in_dims\n",
    "        self.out_dims = out_dims\n",
    "        self.latent_dims = latent_dims\n",
    "        \n",
    "        self.encoder = nn.Sequential(\n",
    "            nn.Linear(self.in_dims, 100),\n",
    "            nn.ReLU(),\n",
    "            nn.Linear(100, 100),\n",
    "            nn.ReLU(),\n",
    "        )\n",
    "        \n",
    "        self.latent = nn.Linear(100, self.latent_dims)\n",
    "        \n",
    "        self.decoder = nn.Sequential(\n",
    "            nn.Linear(self.latent_dims, 100),\n",
    "            nn.ReLU(),\n",
    "            nn.Linear(100, 100),\n",
    "            nn.ReLU(),\n",
    "            nn.Linear(100, self.out_dims),\n",
    "            nn.Tanh(),\n",
    "        )\n",
    "        \n",
    "    def forward(self, x):\n",
    "        x = self.encoder(x)\n",
    "        x = self.latent(x)\n",
    "        x = self.decoder(x)\n",
    "        return x\n",
    "    \n",
    "    def loss_function(self, recon_x, x):\n",
    "        MSE = nn.MSELoss()\n",
    "        return MSE(recon_x, x)\n",
    "    "
   ]
  },
  {
   "cell_type": "code",
   "execution_count": 3,
   "metadata": {},
   "outputs": [],
   "source": [
    "# net = AE()\n",
    "# print(net)\n",
    "# if torch.cuda.is_available():\n",
    "#     net = net.cuda()"
   ]
  },
  {
   "cell_type": "code",
   "execution_count": 4,
   "metadata": {},
   "outputs": [],
   "source": [
    "# net.loss_function(torch.Tensor([0,0]),torch.Tensor([1,2]))"
   ]
  },
  {
   "cell_type": "code",
   "execution_count": null,
   "metadata": {},
   "outputs": [],
   "source": []
  }
 ],
 "metadata": {
  "kernelspec": {
   "display_name": "Python 3",
   "language": "python",
   "name": "python3"
  },
  "language_info": {
   "codemirror_mode": {
    "name": "ipython",
    "version": 3
   },
   "file_extension": ".py",
   "mimetype": "text/x-python",
   "name": "python",
   "nbconvert_exporter": "python",
   "pygments_lexer": "ipython3",
   "version": "3.7.0"
  }
 },
 "nbformat": 4,
 "nbformat_minor": 2
}
