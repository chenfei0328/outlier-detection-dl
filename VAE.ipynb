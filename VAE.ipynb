{
 "cells": [
  {
   "cell_type": "code",
   "execution_count": 1,
   "metadata": {},
   "outputs": [],
   "source": [
    "import torch\n",
    "import torch.nn.functional as F\n",
    "from torch import nn"
   ]
  },
  {
   "cell_type": "code",
   "execution_count": 2,
   "metadata": {},
   "outputs": [],
   "source": [
    "class VAE(nn.Module):\n",
    "    def __init__(self, in_dims=128, out_dims=128, latent_dims=3, eps=1e-4):\n",
    "        super(VAE, self).__init__()\n",
    "        \n",
    "        self.in_dims = in_dims\n",
    "        self.out_dims = out_dims\n",
    "        self.latent_dims = latent_dims\n",
    "        self.eps = eps\n",
    "        \n",
    "        self.encoder = nn.Sequential(\n",
    "            nn.Linear(self.in_dims, 100),\n",
    "            nn.ReLU(),\n",
    "            nn.Linear(100, 100),\n",
    "            nn.ReLU(),\n",
    "        )\n",
    "        \n",
    "        self.mu_layer = nn.Linear(100, self.latent_dims)\n",
    "        self.sigma_layer = nn.Linear(100, self.latent_dims)\n",
    "        \n",
    "        self.decoder = nn.Sequential(\n",
    "            nn.Linear(self.latent_dims, 100),\n",
    "            nn.ReLU(),\n",
    "            nn.Linear(100, 100),\n",
    "            nn.ReLU(),\n",
    "            nn.Linear(100, self.out_dims),\n",
    "            nn.Tanh(),\n",
    "        )\n",
    "        \n",
    "    def encode_q_z(self, x):\n",
    "        h = self.encoder(x)\n",
    "        mu = self.mu_layer(h)\n",
    "        sigma = self.sigma_layer(h)\n",
    "        sigma = F.softplus(sigma) + torch.FloatTensor([self.eps] * self.latent_dims)\n",
    "        return mu, sigma\n",
    "    \n",
    "    def reparametrize(self, mu, sigma):\n",
    "        std = logvar.mu(0.5).exp_()\n",
    "        ksi = torch.FloatTensor(std.size()).normal_()\n",
    "        if torch.cuda.is_available():\n",
    "            ksi = ksi.cuda()\n",
    "        return ksi.mul(std).add_(mu)\n",
    "    \n",
    "    def decode_p_x(self, x):\n",
    "        return self.decoder(x)\n",
    "    \n",
    "    def forward(self, x):\n",
    "        mu, logvar = self.encode_q_z(x)\n",
    "        z = reparametrize(mu, logvar)\n",
    "        return decode_p_x(z), mu, logvar\n",
    "    \n",
    "    def loss_function(self, recon_x, x, mu, logvar):\n",
    "        MSE = nn.MSELoss()\n",
    "        # loss = 0.5 * sum(1 + log(sigma^2) - mu^2 - sigma^2)\n",
    "        KLD_element = mu.pow(2).add_(logvar.exp()).mul_(-1).add_(1).add_(logvar)\n",
    "        KLD = torch.sum(KLD_element).mul_(-0.5)\n",
    "        # KL divergence\n",
    "#         print(MSE(recon_x, x))\n",
    "#         print(KLD)\n",
    "        return MSE(recon_x, x) + KLD"
   ]
  },
  {
   "cell_type": "code",
   "execution_count": 3,
   "metadata": {},
   "outputs": [
    {
     "name": "stdout",
     "output_type": "stream",
     "text": [
      "VAE(\n",
      "  (encoder): Sequential(\n",
      "    (0): Linear(in_features=128, out_features=100, bias=True)\n",
      "    (1): ReLU()\n",
      "    (2): Linear(in_features=100, out_features=100, bias=True)\n",
      "    (3): ReLU()\n",
      "  )\n",
      "  (mu_layer): Linear(in_features=100, out_features=3, bias=True)\n",
      "  (sigma_layer): Linear(in_features=100, out_features=3, bias=True)\n",
      "  (decoder): Sequential(\n",
      "    (0): Linear(in_features=3, out_features=100, bias=True)\n",
      "    (1): ReLU()\n",
      "    (2): Linear(in_features=100, out_features=100, bias=True)\n",
      "    (3): ReLU()\n",
      "    (4): Linear(in_features=100, out_features=128, bias=True)\n",
      "    (5): Tanh()\n",
      "  )\n",
      ")\n"
     ]
    }
   ],
   "source": [
    "net = VAE()\n",
    "print(net)\n",
    "if torch.cuda.is_available():\n",
    "    net = net.cuda()"
   ]
  },
  {
   "cell_type": "code",
   "execution_count": 4,
   "metadata": {},
   "outputs": [
    {
     "data": {
      "text/plain": [
       "tensor(6.1632)"
      ]
     },
     "execution_count": 4,
     "metadata": {},
     "output_type": "execute_result"
    }
   ],
   "source": [
    "net.loss_function(torch.Tensor([0,0]),torch.Tensor([1,2]), torch.Tensor([1, 1.5, 2.0]), torch.Tensor([0.1,0.2,0.3]))"
   ]
  }
 ],
 "metadata": {
  "kernelspec": {
   "display_name": "Python 3",
   "language": "python",
   "name": "python3"
  },
  "language_info": {
   "codemirror_mode": {
    "name": "ipython",
    "version": 3
   },
   "file_extension": ".py",
   "mimetype": "text/x-python",
   "name": "python",
   "nbconvert_exporter": "python",
   "pygments_lexer": "ipython3",
   "version": "3.7.0"
  }
 },
 "nbformat": 4,
 "nbformat_minor": 2
}
