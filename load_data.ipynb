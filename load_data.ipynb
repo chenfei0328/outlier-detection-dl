{
 "cells": [
  {
   "cell_type": "code",
   "execution_count": 1,
   "metadata": {},
   "outputs": [],
   "source": [
    "import numpy as np\n",
    "import pandas as pd\n",
    "import os"
   ]
  },
  {
   "cell_type": "code",
   "execution_count": 2,
   "metadata": {},
   "outputs": [],
   "source": [
    "data_path = './outlier/train102.csv'"
   ]
  },
  {
   "cell_type": "code",
   "execution_count": 3,
   "metadata": {},
   "outputs": [],
   "source": [
    "def read_data(data_path):\n",
    "    df = pd.read_csv(data_path)\n",
    "    value = np.array(df['Value'])\n",
    "    label = np.array(df['Label'])\n",
    "    return value, label"
   ]
  },
  {
   "cell_type": "code",
   "execution_count": 4,
   "metadata": {},
   "outputs": [
    {
     "name": "stdout",
     "output_type": "stream",
     "text": [
      "127130\n",
      "127130\n"
     ]
    }
   ],
   "source": [
    "value, label = read_data(data_path)\n",
    "print(value.size)\n",
    "print(label.size)"
   ]
  },
  {
   "cell_type": "code",
   "execution_count": 5,
   "metadata": {},
   "outputs": [],
   "source": [
    "WINDOW_SIZE = 128\n",
    "EPOCH = 20\n",
    "BATCH_SIZE = 256\n",
    "LEARNING_RATE = 1e-3"
   ]
  },
  {
   "cell_type": "code",
   "execution_count": 6,
   "metadata": {},
   "outputs": [
    {
     "name": "stdout",
     "output_type": "stream",
     "text": [
      "3038.0579182726347\n",
      "565.2425692392306\n"
     ]
    }
   ],
   "source": [
    "def normalize_data(value):\n",
    "    mean = np.mean(value)\n",
    "    std = np.std(value)\n",
    "    print(mean)\n",
    "    print(std)\n",
    "    value = [(x - mean) / std for x in value]\n",
    "    return value\n",
    "\n",
    "value = normalize_data(value)\n",
    "#print(value)"
   ]
  },
  {
   "cell_type": "code",
   "execution_count": 7,
   "metadata": {},
   "outputs": [
    {
     "name": "stdout",
     "output_type": "stream",
     "text": [
      "127003\n"
     ]
    }
   ],
   "source": [
    "# value = np.array([1,2,3,4,5,6,7,8,9,10,11,12,13])\n",
    "# label = np.array([0,1,0,1,0,1,0,1,0,1,0,1,0])\n",
    "# WINDOW_SIZE = 3\n",
    "# BATCH_SIZE = 2\n",
    "\n",
    "def create_window(value, label):\n",
    "    windows = np.array([value[:WINDOW_SIZE]])\n",
    "    for i in range(len(value) - WINDOW_SIZE):\n",
    "        windows = np.concatenate((windows, np.array([value[i + 1:i + 1 + WINDOW_SIZE]])))\n",
    "    label = label[WINDOW_SIZE - 1:]\n",
    "    label = label[:,np.newaxis]\n",
    "    return windows, label\n",
    "windows, label = create_window(value, label)\n",
    "\n",
    "print(len(windows))\n",
    "# print(windows)\n",
    "# print(label)"
   ]
  },
  {
   "cell_type": "code",
   "execution_count": 11,
   "metadata": {},
   "outputs": [],
   "source": [
    "import torch\n",
    "from torch.utils.data import DataLoader, TensorDataset\n",
    "from torch.nn.utils import clip_grad_norm_\n",
    "\n",
    "from tqdm import tqdm\n",
    "from sklearn.utils import shuffle"
   ]
  },
  {
   "cell_type": "code",
   "execution_count": 9,
   "metadata": {},
   "outputs": [
    {
     "name": "stdout",
     "output_type": "stream",
     "text": [
      "297\n",
      "99\n"
     ]
    }
   ],
   "source": [
    "sep1 = int(0.6 * len(windows))\n",
    "sep2 = int(0.8 * len(windows))\n",
    "# print(sep1)\n",
    "# print(sep2)\n",
    "\n",
    "windows, label = shuffle(windows, label)\n",
    "\n",
    "windows = torch.from_numpy(windows).float()\n",
    "label = torch.from_numpy(label).float()\n",
    "\n",
    "# print(windows)\n",
    "# print(label)\n",
    "\n",
    "train_set = TensorDataset(windows[:sep1], label[:sep1])\n",
    "train_data = DataLoader(train_set, batch_size=BATCH_SIZE, shuffle=True, drop_last=True)\n",
    "print(len(train_data))\n",
    "\n",
    "valid_set = TensorDataset(windows[sep1:sep2], label[sep1:sep2])\n",
    "valid_data = DataLoader(valid_set, batch_size=BATCH_SIZE, shuffle=True, drop_last=True)\n",
    "print(len(valid_data))\n",
    "\n",
    "# test set 不需要打乱，搞成batch？\n",
    "# test_set = TensorDataset(windows[sep2:], label[sep2:])\n",
    "# test_data = DataLoader(test_set, batch_size=BATCH_SIZE, shuffle=True, drop_last=True)\n",
    "# print(len(test_data))\n",
    "\n",
    "# for i, batch in enumerate(train_data):\n",
    "#     print(i)\n",
    "#     # batch[0]为数据,batch[1]为标签\n",
    "#     print(batch[0])\n",
    "#     print(batch[1])\n",
    "    "
   ]
  },
  {
   "cell_type": "code",
   "execution_count": 13,
   "metadata": {},
   "outputs": [
    {
     "ename": "ModuleNotFoundError",
     "evalue": "No module named 'AE'",
     "output_type": "error",
     "traceback": [
      "\u001b[0;31m---------------------------------------------------------------------------\u001b[0m",
      "\u001b[0;31mModuleNotFoundError\u001b[0m                       Traceback (most recent call last)",
      "\u001b[0;32m<ipython-input-13-d741aa77b7aa>\u001b[0m in \u001b[0;36m<module>\u001b[0;34m\u001b[0m\n\u001b[0;32m----> 1\u001b[0;31m \u001b[0;32mfrom\u001b[0m \u001b[0mAE\u001b[0m \u001b[0;32mimport\u001b[0m \u001b[0mAE\u001b[0m\u001b[0;34m\u001b[0m\u001b[0m\n\u001b[0m\u001b[1;32m      2\u001b[0m \u001b[0mnet\u001b[0m \u001b[0;34m=\u001b[0m \u001b[0mAE\u001b[0m\u001b[0;34m(\u001b[0m\u001b[0;34m)\u001b[0m\u001b[0;34m\u001b[0m\u001b[0m\n\u001b[1;32m      3\u001b[0m \u001b[0;31m# print(net)\u001b[0m\u001b[0;34m\u001b[0m\u001b[0;34m\u001b[0m\u001b[0m\n\u001b[1;32m      4\u001b[0m \u001b[0;32mif\u001b[0m \u001b[0mtorch\u001b[0m\u001b[0;34m.\u001b[0m\u001b[0mcuda\u001b[0m\u001b[0;34m.\u001b[0m\u001b[0mis_available\u001b[0m\u001b[0;34m(\u001b[0m\u001b[0;34m)\u001b[0m\u001b[0;34m:\u001b[0m\u001b[0;34m\u001b[0m\u001b[0m\n\u001b[1;32m      5\u001b[0m     \u001b[0mnet\u001b[0m \u001b[0;34m=\u001b[0m \u001b[0mnet\u001b[0m\u001b[0;34m.\u001b[0m\u001b[0mcuda\u001b[0m\u001b[0;34m(\u001b[0m\u001b[0;34m)\u001b[0m\u001b[0;34m\u001b[0m\u001b[0m\n",
      "\u001b[0;31mModuleNotFoundError\u001b[0m: No module named 'AE'"
     ]
    }
   ],
   "source": [
    "from AE import AE\n",
    "net = AE()\n",
    "# print(net)\n",
    "if torch.cuda.is_available():\n",
    "    net = net.cuda()\n",
    "\n",
    "optimizer = optim.Adam(net.parameters(), lr=LEARNING_RATE, weight_decay=1e-3) # 添加正则项，替代dropout\n",
    "\n",
    "# optimizer.param_groups[0]\n",
    "# 是其中一个参数组，包括['lr']和['weight_decay']\n",
    "# 可以直接赋值修改参数\n",
    "# 防止有多个参数组，故使用循环\n",
    "# def set_learning_rate(optimizer, lr):\n",
    "#     for param_group in optimizer.param_groups:\n",
    "#         param_group['lr'] = lr\n",
    "\n",
    "# 每10轮衰减为原来的75%\n",
    "def set_learning_rate(optimizer):\n",
    "    for param_group in optimizer.param_groups:\n",
    "        param_group['lr'] *= 0.75\n",
    "\n",
    "train_losses = []\n",
    "valid_losses = []\n",
    "\n",
    "prev_time = datetime.now()\n",
    "\n",
    "for e in tqdm(range(EPOCH)):\n",
    "    if e != 0 and e % 10 == 0:\n",
    "        set_learning_rate(optimizer)\n",
    "        \n",
    "    train_loss = 0.0\n",
    "    for i, batch in enumerate(train_data):\n",
    "        window = batch[0].view(BATCH_SIZE, -1)\n",
    "        recon_window = net(window)\n",
    "        loss = net.loss_function(recon_window, window) / BATCH_SIZE\n",
    "        \n",
    "        optimizer.zero_grad()\n",
    "        loss.backward()\n",
    "        clip_grad_norm_(net.parameters(), max_norm=10.)\n",
    "        optimizer.step()\n",
    "        # use float() to reduce menmery 'autograd\n",
    "        train_loss += float(loss)\n",
    "        \n",
    "    train_loss /= len(train_data)\n",
    "    train_losses.append(train_loss)\n",
    "    \n",
    "    valid_loss = 0\n",
    "    \n",
    "    net.eval()\n",
    "    \n",
    "    for i, batch in enumerate(valid_data):\n",
    "        window = batch[0].view(BATCH_SIZE, -1)\n",
    "        recon_window = net(window)\n",
    "        loss = net.loss_function(recon_window, window) / BATCH_SIZE\n",
    "        valid_loss = float(loss)\n",
    "        break\n",
    "        \n",
    "    valid_losses.append(valid_loss)\n",
    "        \n",
    "    if (e + 1) % 5 == 0:\n",
    "        cur_time = datetime.now()\n",
    "        h, remainder = divmod((cur_time - prev_time).seconds, 3600)\n",
    "        m, s = divmod(remainder, 60)\n",
    "        time_str = \"Time %02d:%02d:%02d\" % (h, m, s)\n",
    "        \n",
    "        prev_time = cur_time\n",
    "        #print('Epoch: {}, Train Loss: {:.4f} '.format(e + 1, train_loss) + time_str)\n",
    "        print('Epoch: {}, Train Loss: {:.4f}, Valid Loss: {:.4f} '.format(e + 1, train_loss, valid_loss) + time_str)\n",
    "    net.train()\n",
    "    \n",
    "final_loss = train_losses[-1]"
   ]
  },
  {
   "cell_type": "code",
   "execution_count": null,
   "metadata": {},
   "outputs": [],
   "source": []
  }
 ],
 "metadata": {
  "kernelspec": {
   "display_name": "Python 3",
   "language": "python",
   "name": "python3"
  },
  "language_info": {
   "codemirror_mode": {
    "name": "ipython",
    "version": 3
   },
   "file_extension": ".py",
   "mimetype": "text/x-python",
   "name": "python",
   "nbconvert_exporter": "python",
   "pygments_lexer": "ipython3",
   "version": "3.7.0"
  }
 },
 "nbformat": 4,
 "nbformat_minor": 2
}
